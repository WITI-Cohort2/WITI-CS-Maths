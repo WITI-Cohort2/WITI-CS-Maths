{
 "cells": [
  {
   "cell_type": "markdown",
   "id": "10731650",
   "metadata": {},
   "source": [
    "# Python and Probability Notes"
   ]
  },
  {
   "cell_type": "markdown",
   "id": "83d63909",
   "metadata": {},
   "source": [
    "This section expects to introduce you to some familiar functions, code,  probability random variables "
   ]
  },
  {
   "cell_type": "markdown",
   "id": "d4523fd1",
   "metadata": {},
   "source": [
    "## Visualizing a geometric series "
   ]
  },
  {
   "cell_type": "code",
   "execution_count": null,
   "id": "362296b4",
   "metadata": {},
   "outputs": [],
   "source": [
    "# Python code to generate a geometric sequence\n",
    "import numpy as np    # imports numpy as np\n",
    "import matplotlib.pyplot as plt # imports matplotlib.pyplot as plt\n",
    "p = 1/2                        # probability 0.5 \n",
    "n = np.arange(1,10)            # range of the plot\n",
    "X = np.power(p,n)             # power under probability \n",
    "plt.bar(n,X)"
   ]
  },
  {
   "cell_type": "markdown",
   "id": "eb295e10",
   "metadata": {},
   "source": [
    "## Computer N choose K"
   ]
  },
  {
   "cell_type": "code",
   "execution_count": null,
   "id": "5ecb566f",
   "metadata": {},
   "outputs": [],
   "source": [
    "# Python code to compute (N choose K) and K!\n",
    "from scipy.special import comb, factorial # import a sub-module from scipy.special library\n",
    "n = 10    # set out the n\n",
    "k = 2     # choose k\n",
    "comb(n, k)  # apply the formula\n",
    "factorial(k) # specify the factorial"
   ]
  },
  {
   "cell_type": "markdown",
   "id": "dce06cad",
   "metadata": {},
   "source": [
    "## Inner product of two vectors "
   ]
  },
  {
   "cell_type": "code",
   "execution_count": null,
   "id": "3aa33303",
   "metadata": {},
   "outputs": [],
   "source": [
    "# Python code to perform an inner product\n",
    "import numpy as np\n",
    "x = np.array([1,0,-1])\n",
    "y = np.array([3,2,0])\n",
    "z = np.dot(x,y)\n",
    "print(z)"
   ]
  },
  {
   "cell_type": "markdown",
   "id": "1c3b087c",
   "metadata": {},
   "source": [
    "## Norm of a vector "
   ]
  },
  {
   "cell_type": "code",
   "execution_count": null,
   "id": "23e75ff3",
   "metadata": {},
   "outputs": [],
   "source": [
    "# Python code to compute the norm\n",
    "import numpy as np\n",
    "x = np.array([1,0,-1])\n",
    "x_norm = np.linalg.norm(x)"
   ]
  },
  {
   "cell_type": "markdown",
   "id": "d53f74a0",
   "metadata": {},
   "source": [
    "## Weighted Norm of a vector "
   ]
  },
  {
   "cell_type": "code",
   "execution_count": null,
   "id": "e5632c13",
   "metadata": {},
   "outputs": [],
   "source": [
    "# Python code to compute the norm\n",
    "import numpy as np\n",
    "x = np.array([1,0,-1])\n",
    "x_norm = np.linalg.norm(x)"
   ]
  },
  {
   "cell_type": "markdown",
   "id": "8eef380e",
   "metadata": {},
   "source": [
    "## Matrix Inverse"
   ]
  },
  {
   "cell_type": "code",
   "execution_count": null,
   "id": "94c444f6",
   "metadata": {},
   "outputs": [],
   "source": [
    "# Python code to compute a matrix inverse\n",
    "import numpy as np\n",
    "X      = np.array([[1, 3], [-2, 7], [0, 1]])\n",
    "XtX    = np.dot(X.T, X)\n",
    "XtXinv = np.linalg.inv(XtX)\n",
    "print(XtXinv)"
   ]
  },
  {
   "cell_type": "markdown",
   "id": "b1a45e9d",
   "metadata": {},
   "source": [
    "## System of Linear Equation "
   ]
  },
  {
   "cell_type": "code",
   "execution_count": null,
   "id": "50011c70",
   "metadata": {},
   "outputs": [],
   "source": [
    "# Python code to solve X beta = y\n",
    "import numpy as np\n",
    "X      = np.array([[1, 3], [-2, 7], [0, 1]])\n",
    "y      = np.array([[2],[1],[0]])\n",
    "beta   = np.linalg.lstsq(X, y, rcond=None)[0]\n",
    "print(beta)"
   ]
  },
  {
   "cell_type": "markdown",
   "id": "2830182f",
   "metadata": {},
   "source": [
    "## Generate a histogram "
   ]
  },
  {
   "cell_type": "code",
   "execution_count": null,
   "id": "3777031a",
   "metadata": {},
   "outputs": [],
   "source": [
    "# Python code generate the histogram\n",
    "import numpy as np\n",
    "import matplotlib.pyplot as plt\n",
    "f = np.loadtxt('./ch3_data_english.txt')\n",
    "n = np.arange(26)\n",
    "plt.bar(n, f/100)\n",
    "ntag = ['a','b','c','d','e','f','g','h','i','j','k','l','m',\\\n",
    "    'n','o','p','q','r','s','t','u','v','w','x','y','z']\n",
    "plt.xticks(n, ntag)\n",
    "plt.show()\n",
    "\n",
    "\n",
    "# Python code generate the histogram\n",
    "import numpy as np\n",
    "import matplotlib.pyplot as plt\n",
    "q = np.random.randint(7,size=100)\n",
    "plt.hist(q+0.5,bins=6)\n",
    "plt.show()\n",
    "\n"
   ]
  },
  {
   "cell_type": "markdown",
   "id": "1be4a2ba",
   "metadata": {},
   "source": [
    "## Mean of a vector"
   ]
  },
  {
   "cell_type": "code",
   "execution_count": null,
   "id": "8a10896a",
   "metadata": {},
   "outputs": [],
   "source": [
    "# Python code to compute the mean of a dataset\n",
    "import numpy as np\n",
    "X  = np.random.rand(10000)\n",
    "mX = np.mean(X)"
   ]
  },
  {
   "cell_type": "markdown",
   "id": "1c635ffc",
   "metadata": {},
   "source": [
    "## Mean from PMF"
   ]
  },
  {
   "cell_type": "code",
   "execution_count": null,
   "id": "2beb9b4d",
   "metadata": {},
   "outputs": [],
   "source": [
    "# Python code to compute the expectation\n",
    "import numpy as np\n",
    "p = np.array([0.25, 0.5, 0.25])\n",
    "x = np.array([0, 1, 2])\n",
    "EX = np.sum(p*x)\n"
   ]
  },
  {
   "cell_type": "markdown",
   "id": "a7fb2ab6",
   "metadata": {},
   "source": [
    "## Binomial Random Variable"
   ]
  },
  {
   "cell_type": "code",
   "execution_count": null,
   "id": "80757107",
   "metadata": {},
   "outputs": [],
   "source": [
    "# Python code to generate 5000 Binomial random variables\n",
    "import numpy as np\n",
    "import matplotlib.pyplot as plt\n",
    "p = 0.5\n",
    "n = 10\n",
    "X = np.random.binomial(n,p,size=5000)\n",
    "plt.hist(X,bins='auto');"
   ]
  },
  {
   "cell_type": "markdown",
   "id": "a1fb655a",
   "metadata": {},
   "source": [
    "## Binomial CDF"
   ]
  },
  {
   "cell_type": "code",
   "execution_count": null,
   "id": "d3c30659",
   "metadata": {},
   "outputs": [],
   "source": [
    "# Python code to plot CDF of a binomial random variable\n",
    "import numpy as np\n",
    "import matplotlib.pyplot as plt\n",
    "import scipy.stats as stats\n",
    "p = 0.5\n",
    "n = 10\n",
    "rv = stats.binom(n,p)\n",
    "x  = np.arange(11)\n",
    "F  = rv.cdf(x)\n",
    "plt.plot(x, F, 'bo', ms=10);\n",
    "plt.vlines(x, 0, F, colors='b', lw=5, alpha=0.5);"
   ]
  },
  {
   "cell_type": "markdown",
   "id": "7765b98f",
   "metadata": {},
   "source": [
    "## Generate a uniform random variable"
   ]
  },
  {
   "cell_type": "code",
   "execution_count": null,
   "id": "6d427f40",
   "metadata": {},
   "outputs": [],
   "source": [
    "# Python code to generate 1000 uniform random numbers\n",
    "import scipy.stats as stats\n",
    "a = 0; b = 1;\n",
    "X = stats.uniform.rvs(a,b,size=1000)\n",
    "plt.hist(X);"
   ]
  },
  {
   "cell_type": "markdown",
   "id": "9d932c07",
   "metadata": {},
   "source": [
    "## Mean, variance, median, mode of a uniform random variable"
   ]
  },
  {
   "cell_type": "code",
   "execution_count": null,
   "id": "9e99644a",
   "metadata": {},
   "outputs": [],
   "source": [
    "# Python code to compute empirical mean, var, median, mode\n",
    "X = stats.uniform.rvs(a,b,size=1000)\n",
    "M = np.mean(X)\n",
    "V = np.var(X)\n",
    "Med = np.median(X)\n",
    "Mod = stats.mode(X)"
   ]
  },
  {
   "cell_type": "markdown",
   "id": "d9e6ab17",
   "metadata": {},
   "source": [
    "## Probability of a uniform random variable "
   ]
  },
  {
   "cell_type": "code",
   "execution_count": null,
   "id": "fbacf6c0",
   "metadata": {},
   "outputs": [],
   "source": [
    " Python code to compute the probability P(0.2 < X < 0.3)\n",
    "import scipy.stats as stats\n",
    "a = 0; b = 1;\n",
    "F = stats.uniform.cdf(0.3,a,b)-stats.uniform.cdf(0.2,a,b)"
   ]
  },
  {
   "cell_type": "markdown",
   "id": "b2c74e27",
   "metadata": {},
   "source": [
    "## Skewness and Kurtosis of a random variable"
   ]
  },
  {
   "cell_type": "code",
   "execution_count": null,
   "id": "38fec2f7",
   "metadata": {},
   "outputs": [],
   "source": [
    "# Python code to compute skewness and kurtosis\n",
    "import scipy.stats as stats\n",
    "X = stats.gamma.rvs(3,5,size=10000)\n",
    "s = stats.skew(X)\n",
    "k = stats.kurtosis(X)"
   ]
  },
  {
   "cell_type": "markdown",
   "id": "87b05131",
   "metadata": {},
   "source": [
    "## Principles of Linear Regression "
   ]
  },
  {
   "cell_type": "code",
   "execution_count": null,
   "id": "b298a67a",
   "metadata": {},
   "outputs": [],
   "source": [
    "# Python code to fit data points using a straight line\n",
    "\n",
    "import numpy as np\n",
    "import matplotlib.pyplot as plt\n",
    "\n",
    "N = 50\n",
    "x = np.random.rand(N)\n",
    "a = 2.5                                 # true parameter\n",
    "b = 1.3                                 # true parameter\n",
    "y = a*x + b + 0.2*np.random.randn(N)    # Synthesize training data\n",
    "\n",
    "X = np.column_stack((x, np.ones(N)))    # construct the X matrix\n",
    "theta = np.linalg.lstsq(X, y, rcond=None)[0] # solve y = X theta\n",
    "\n",
    "t = np.linspace(0,1,200)                # interpolate and plot\n",
    "yhat = theta[0]*t + theta[1]\n",
    "plt.plot(x,y,'o')\n",
    "plt.plot(t,yhat,'r',linewidth=4)"
   ]
  }
 ],
 "metadata": {
  "kernelspec": {
   "display_name": "Python 3 (ipykernel)",
   "language": "python",
   "name": "python3"
  },
  "language_info": {
   "codemirror_mode": {
    "name": "ipython",
    "version": 3
   },
   "file_extension": ".py",
   "mimetype": "text/x-python",
   "name": "python",
   "nbconvert_exporter": "python",
   "pygments_lexer": "ipython3",
   "version": "3.9.12"
  }
 },
 "nbformat": 4,
 "nbformat_minor": 5
}
